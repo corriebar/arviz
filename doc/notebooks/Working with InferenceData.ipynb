{
 "cells": [
  {
   "cell_type": "markdown",
   "metadata": {},
   "source": [
    "# Working with InferenceData\n",
    "This notebook is a short introduction how to work with InferenceData and the underlying `xarray` data structure.\n",
    "\n",
    "\n",
    "First, we load all the data and run the model. For more detail on this, check e.g. [this notebook](https://docs.pymc.io/notebooks/multilevel_modeling.html)."
   ]
  },
  {
   "cell_type": "code",
   "execution_count": 10,
   "metadata": {},
   "outputs": [],
   "source": [
    "import pymc3 as pm\n",
    "import pandas as pd\n",
    "import numpy as np\n",
    "import arviz as az\n",
    "\n",
    "# Import radon data\n",
    "srrs2 = pd.read_csv(pm.get_data('srrs2.dat'), index_col=0, dtype={\"zip\": str, \"stflips\":str, \"zipflag\":str, \"cntyflips\":str})\n",
    "srrs2.columns = srrs2.columns.map(str.strip)\n",
    "# Restrict data to Minnesota\n",
    "srrs_mn = srrs2[srrs2.state=='MN'].copy()"
   ]
  },
  {
   "cell_type": "code",
   "execution_count": 11,
   "metadata": {},
   "outputs": [
    {
     "data": {
      "text/html": [
       "<div>\n",
       "<style scoped>\n",
       "    .dataframe tbody tr th:only-of-type {\n",
       "        vertical-align: middle;\n",
       "    }\n",
       "\n",
       "    .dataframe tbody tr th {\n",
       "        vertical-align: top;\n",
       "    }\n",
       "\n",
       "    .dataframe thead th {\n",
       "        text-align: right;\n",
       "    }\n",
       "</style>\n",
       "<table border=\"1\" class=\"dataframe\">\n",
       "  <thead>\n",
       "    <tr style=\"text-align: right;\">\n",
       "      <th></th>\n",
       "      <th>state</th>\n",
       "      <th>state2</th>\n",
       "      <th>stfips</th>\n",
       "      <th>zip</th>\n",
       "      <th>region</th>\n",
       "      <th>typebldg</th>\n",
       "      <th>floor</th>\n",
       "      <th>room</th>\n",
       "      <th>basement</th>\n",
       "      <th>windoor</th>\n",
       "      <th>...</th>\n",
       "      <th>stoptm</th>\n",
       "      <th>startdt</th>\n",
       "      <th>stopdt</th>\n",
       "      <th>activity</th>\n",
       "      <th>pcterr</th>\n",
       "      <th>adjwt</th>\n",
       "      <th>dupflag</th>\n",
       "      <th>zipflag</th>\n",
       "      <th>cntyfips</th>\n",
       "      <th>county</th>\n",
       "    </tr>\n",
       "    <tr>\n",
       "      <th>idnum</th>\n",
       "      <th></th>\n",
       "      <th></th>\n",
       "      <th></th>\n",
       "      <th></th>\n",
       "      <th></th>\n",
       "      <th></th>\n",
       "      <th></th>\n",
       "      <th></th>\n",
       "      <th></th>\n",
       "      <th></th>\n",
       "      <th></th>\n",
       "      <th></th>\n",
       "      <th></th>\n",
       "      <th></th>\n",
       "      <th></th>\n",
       "      <th></th>\n",
       "      <th></th>\n",
       "      <th></th>\n",
       "      <th></th>\n",
       "      <th></th>\n",
       "      <th></th>\n",
       "    </tr>\n",
       "  </thead>\n",
       "  <tbody>\n",
       "    <tr>\n",
       "      <td>5081</td>\n",
       "      <td>MN</td>\n",
       "      <td>MN</td>\n",
       "      <td>27</td>\n",
       "      <td>55735</td>\n",
       "      <td>5</td>\n",
       "      <td>1</td>\n",
       "      <td>1</td>\n",
       "      <td>3</td>\n",
       "      <td>N</td>\n",
       "      <td></td>\n",
       "      <td>...</td>\n",
       "      <td>930</td>\n",
       "      <td>12088</td>\n",
       "      <td>12288</td>\n",
       "      <td>2.2</td>\n",
       "      <td>9.7</td>\n",
       "      <td>1146.499190</td>\n",
       "      <td>1</td>\n",
       "      <td>0</td>\n",
       "      <td>1</td>\n",
       "      <td>AITKIN</td>\n",
       "    </tr>\n",
       "    <tr>\n",
       "      <td>5082</td>\n",
       "      <td>MN</td>\n",
       "      <td>MN</td>\n",
       "      <td>27</td>\n",
       "      <td>55748</td>\n",
       "      <td>5</td>\n",
       "      <td>1</td>\n",
       "      <td>0</td>\n",
       "      <td>4</td>\n",
       "      <td>Y</td>\n",
       "      <td></td>\n",
       "      <td>...</td>\n",
       "      <td>1615</td>\n",
       "      <td>11888</td>\n",
       "      <td>12088</td>\n",
       "      <td>2.2</td>\n",
       "      <td>14.5</td>\n",
       "      <td>471.366223</td>\n",
       "      <td>0</td>\n",
       "      <td>0</td>\n",
       "      <td>1</td>\n",
       "      <td>AITKIN</td>\n",
       "    </tr>\n",
       "    <tr>\n",
       "      <td>5083</td>\n",
       "      <td>MN</td>\n",
       "      <td>MN</td>\n",
       "      <td>27</td>\n",
       "      <td>55748</td>\n",
       "      <td>5</td>\n",
       "      <td>1</td>\n",
       "      <td>0</td>\n",
       "      <td>4</td>\n",
       "      <td>Y</td>\n",
       "      <td></td>\n",
       "      <td>...</td>\n",
       "      <td>1515</td>\n",
       "      <td>20288</td>\n",
       "      <td>21188</td>\n",
       "      <td>2.9</td>\n",
       "      <td>9.6</td>\n",
       "      <td>433.316718</td>\n",
       "      <td>0</td>\n",
       "      <td>0</td>\n",
       "      <td>1</td>\n",
       "      <td>AITKIN</td>\n",
       "    </tr>\n",
       "    <tr>\n",
       "      <td>5084</td>\n",
       "      <td>MN</td>\n",
       "      <td>MN</td>\n",
       "      <td>27</td>\n",
       "      <td>56469</td>\n",
       "      <td>5</td>\n",
       "      <td>1</td>\n",
       "      <td>0</td>\n",
       "      <td>4</td>\n",
       "      <td>Y</td>\n",
       "      <td></td>\n",
       "      <td>...</td>\n",
       "      <td>1410</td>\n",
       "      <td>122987</td>\n",
       "      <td>123187</td>\n",
       "      <td>1.0</td>\n",
       "      <td>24.3</td>\n",
       "      <td>461.623670</td>\n",
       "      <td>0</td>\n",
       "      <td>0</td>\n",
       "      <td>1</td>\n",
       "      <td>AITKIN</td>\n",
       "    </tr>\n",
       "    <tr>\n",
       "      <td>5085</td>\n",
       "      <td>MN</td>\n",
       "      <td>MN</td>\n",
       "      <td>27</td>\n",
       "      <td>55011</td>\n",
       "      <td>3</td>\n",
       "      <td>1</td>\n",
       "      <td>0</td>\n",
       "      <td>4</td>\n",
       "      <td>Y</td>\n",
       "      <td></td>\n",
       "      <td>...</td>\n",
       "      <td>600</td>\n",
       "      <td>12888</td>\n",
       "      <td>13088</td>\n",
       "      <td>3.1</td>\n",
       "      <td>13.8</td>\n",
       "      <td>433.316718</td>\n",
       "      <td>0</td>\n",
       "      <td>0</td>\n",
       "      <td>3</td>\n",
       "      <td>ANOKA</td>\n",
       "    </tr>\n",
       "  </tbody>\n",
       "</table>\n",
       "<p>5 rows × 24 columns</p>\n",
       "</div>"
      ],
      "text/plain": [
       "      state state2  stfips    zip  region  typebldg  floor  room basement  \\\n",
       "idnum                                                                       \n",
       "5081     MN     MN      27  55735       5         1      1     3        N   \n",
       "5082     MN     MN      27  55748       5         1      0     4        Y   \n",
       "5083     MN     MN      27  55748       5         1      0     4        Y   \n",
       "5084     MN     MN      27  56469       5         1      0     4        Y   \n",
       "5085     MN     MN      27  55011       3         1      0     4        Y   \n",
       "\n",
       "      windoor  ... stoptm  startdt  stopdt  activity  pcterr        adjwt  \\\n",
       "idnum          ...                                                          \n",
       "5081           ...    930    12088   12288       2.2     9.7  1146.499190   \n",
       "5082           ...   1615    11888   12088       2.2    14.5   471.366223   \n",
       "5083           ...   1515    20288   21188       2.9     9.6   433.316718   \n",
       "5084           ...   1410   122987  123187       1.0    24.3   461.623670   \n",
       "5085           ...    600    12888   13088       3.1    13.8   433.316718   \n",
       "\n",
       "       dupflag  zipflag  cntyfips                county  \n",
       "idnum                                                    \n",
       "5081         1        0         1  AITKIN                \n",
       "5082         0        0         1  AITKIN                \n",
       "5083         0        0         1  AITKIN                \n",
       "5084         0        0         1  AITKIN                \n",
       "5085         0        0         3  ANOKA                 \n",
       "\n",
       "[5 rows x 24 columns]"
      ]
     },
     "execution_count": 11,
     "metadata": {},
     "output_type": "execute_result"
    }
   ],
   "source": [
    "srrs_mn.head()"
   ]
  },
  {
   "cell_type": "code",
   "execution_count": 12,
   "metadata": {},
   "outputs": [],
   "source": [
    "srrs_mn.county = srrs_mn.county.map(str.strip)\n",
    "mn_counties = srrs_mn.county.unique()\n",
    "n_counties = len(mn_counties)\n",
    "county_lookup = dict(zip(mn_counties, range(len(mn_counties))))"
   ]
  },
  {
   "cell_type": "code",
   "execution_count": 13,
   "metadata": {},
   "outputs": [],
   "source": [
    "county = srrs_mn['county_code'] = srrs_mn.county.replace(county_lookup).values\n",
    "radon = srrs_mn.activity\n",
    "srrs_mn['log_radon'] = log_radon = np.log(radon + 0.1).values\n",
    "log_radon = srrs_mn.log_radon.values\n",
    "floor = srrs_mn.floor.values"
   ]
  },
  {
   "cell_type": "code",
   "execution_count": 32,
   "metadata": {},
   "outputs": [
    {
     "name": "stderr",
     "output_type": "stream",
     "text": [
      "Auto-assigning NUTS sampler...\n",
      "Initializing NUTS using jitter+adapt_diag...\n",
      "Multiprocess sampling (2 chains in 2 jobs)\n",
      "NUTS: [sigma_y, beta, alpha, sigma_b, mu_b, sigma_a, mu_a]\n",
      "Sampling 2 chains: 100%|██████████| 4000/4000 [00:40<00:00, 98.48draws/s] \n",
      "There were 240 divergences after tuning. Increase `target_accept` or reparameterize.\n",
      "The acceptance probability does not match the target. It is 0.5948371175128105, but should be close to 0.8. Try to increase the number of tuning steps.\n",
      "There was 1 divergence after tuning. Increase `target_accept` or reparameterize.\n",
      "The acceptance probability does not match the target. It is 0.8882995629765993, but should be close to 0.8. Try to increase the number of tuning steps.\n",
      "The gelman-rubin statistic is larger than 1.4 for some parameters. The sampler did not converge.\n",
      "The estimated number of effective samples is smaller than 200 for some parameters.\n",
      "100%|██████████| 2000/2000 [00:02<00:00, 906.01it/s]\n"
     ]
    }
   ],
   "source": [
    "with pm.Model() as partial_pooling:\n",
    "    \n",
    "    # Priors\n",
    "    mu_a = pm.Normal(\"mu_a\", mu=0, sigma=100)\n",
    "    sigma_a = pm.HalfCauchy(\"sigma_a\", 5)\n",
    "    mu_b = pm.Normal(\"mu_b\", mu=0, sigma=100)\n",
    "    sigma_b = pm.HalfCauchy(\"sigma_b\", 5)\n",
    "    \n",
    "    # Random intercepts\n",
    "    alpha = pm.Normal(\"alpha\", mu=mu_a, sigma=sigma_a, shape=n_counties)\n",
    "    # Random slopes\n",
    "    beta = pm.Normal(\"beta\", mu=mu_b, sigma=sigma_b, shape=n_counties)\n",
    "    \n",
    "    # Model error\n",
    "    sigma_y = pm.HalfCauchy(\"sigma_y\", 100)\n",
    "    \n",
    "    # Expected value\n",
    "    y_hat = alpha[county] + beta[county]*floor\n",
    "    \n",
    "    # Data likelihood\n",
    "    y = pm.Normal(\"y\", mu=y_hat, sigma=sigma_y, observed=log_radon)\n",
    "    \n",
    "    # sample\n",
    "    trace = pm.sample(1000, tune=1000, chains=2)\n",
    "    \n",
    "    prior = pm.sample_prior_predictive()\n",
    "    posterior_predictive = pm.sample_posterior_predictive(trace)"
   ]
  },
  {
   "cell_type": "markdown",
   "metadata": {},
   "source": [
    "We've fit a hierarchical model that predicts the log radon levels in Minnesota. There is one predictor variable `floor` which indicates if the measurement was taken in the basement (0) or the first floor (1). Our linear model thus consists of two parameters, `alpha` and `beta`, and since it is a hierarchical model, each parameter is fitted per county. The model furthermore contains a `sigma_y` parameter for the noise and four hyperprior parameters for `alpha` and `beta`.\n",
    "\n",
    "From the model we obtain three data sets: the trace (that is, the samples from the posterior), the prior predictive sample and posterior predictive samples. We conveniently combine all three data sets in an InferenceData object:"
   ]
  },
  {
   "cell_type": "code",
   "execution_count": 33,
   "metadata": {},
   "outputs": [
    {
     "data": {
      "text/plain": [
       "Inference data with groups:\n",
       "\t> posterior\n",
       "\t> sample_stats\n",
       "\t> posterior_predictive\n",
       "\t> prior\n",
       "\t> observed_data"
      ]
     },
     "execution_count": 33,
     "metadata": {},
     "output_type": "execute_result"
    }
   ],
   "source": [
    "radon_data = az.from_pymc3(\n",
    "            trace=trace,\n",
    "            prior=prior,\n",
    "            posterior_predictive=posterior_predictive,\n",
    "        )\n",
    "radon_data"
   ]
  },
  {
   "cell_type": "markdown",
   "metadata": {},
   "source": [
    "Let's start examine the posterior data:"
   ]
  },
  {
   "cell_type": "code",
   "execution_count": 57,
   "metadata": {},
   "outputs": [
    {
     "data": {
      "text/plain": [
       "<xarray.Dataset>\n",
       "Dimensions:  (chain: 2, county: 85, draw: 1000)\n",
       "Coordinates:\n",
       "  * chain    (chain) int64 0 1\n",
       "  * draw     (draw) int64 0 1 2 3 4 5 6 7 8 ... 992 993 994 995 996 997 998 999\n",
       "  * county   (county) object 'AITKIN' 'ANOKA' ... 'WRIGHT' 'YELLOW MEDICINE'\n",
       "Data variables:\n",
       "    mu_a     (chain, draw) float64 1.458 1.456 1.456 1.459 ... 1.555 1.455 1.493\n",
       "    mu_b     (chain, draw) float64 -0.5473 -0.5467 -0.5467 ... -0.6857 -0.6708\n",
       "    alpha    (chain, draw, county) float64 1.03 0.9346 1.356 ... 1.789 1.424\n",
       "    beta     (chain, draw, county) float64 -0.5419 -0.521 ... -0.6657 -0.8501\n",
       "    sigma_a  (chain, draw) float64 0.2567 0.2584 0.2584 ... 0.397 0.3989 0.371\n",
       "    sigma_b  (chain, draw) float64 0.01609 0.01714 0.01714 ... 0.1255 0.1117\n",
       "    sigma_y  (chain, draw) float64 0.7398 0.7392 0.7392 ... 0.7259 0.7041 0.7146\n",
       "Attributes:\n",
       "    created_at:                 2019-11-01T16:46:19.820119\n",
       "    inference_library:          pymc3\n",
       "    inference_library_version:  3.7"
      ]
     },
     "execution_count": 57,
     "metadata": {},
     "output_type": "execute_result"
    }
   ],
   "source": [
    "radon_data.posterior"
   ]
  },
  {
   "cell_type": "markdown",
   "metadata": {},
   "source": [
    "Under data variables, we see the parameters of our model, here, there are 7 parameters. After each parameter comes the dimensions of the parameter. \n",
    "By default, every parameter has always the `chain` and `draw` dimensions. For this model, we fitted two chains, each with 1000 draws.\n",
    "Accessing the fifth draw from the first chain for the parameter `mu_a` for example would then look like this:"
   ]
  },
  {
   "cell_type": "code",
   "execution_count": 39,
   "metadata": {},
   "outputs": [
    {
     "data": {
      "text/plain": [
       "<xarray.DataArray 'mu_a' ()>\n",
       "array(1.460706)\n",
       "Coordinates:\n",
       "    chain    int64 0\n",
       "    draw     int64 5"
      ]
     },
     "execution_count": 39,
     "metadata": {},
     "output_type": "execute_result"
    }
   ],
   "source": [
    "radon_data.posterior[\"mu_a\"][0,5]"
   ]
  },
  {
   "cell_type": "markdown",
   "metadata": {},
   "source": [
    "Both `alpha` and `beta` each have a third dimension that here are only cryptically named `alpha_dim_0` and `beta_dim_0`. These are the county dimensions. For each of the 85 counties, we fit two chains with 1000 draws each. We can give these dimensions better names by declaring the dimensions when creating the InferenceData object:"
   ]
  },
  {
   "cell_type": "code",
   "execution_count": 44,
   "metadata": {},
   "outputs": [],
   "source": [
    "radon_data = az.from_pymc3(\n",
    "            trace=trace,\n",
    "            prior=prior,\n",
    "            posterior_predictive=posterior_predictive,\n",
    "            # the additional dimension for alpha and beta are called 'county'\n",
    "            dims={'alpha': ['county'], 'beta': ['county']},\n",
    "            # the dimension called 'county' has the county names as coordinates\n",
    "            coords={'county': mn_counties},\n",
    "        )"
   ]
  },
  {
   "cell_type": "code",
   "execution_count": 65,
   "metadata": {},
   "outputs": [
    {
     "data": {
      "text/plain": [
       "<xarray.Dataset>\n",
       "Dimensions:  (chain: 2, county: 85, draw: 1000)\n",
       "Coordinates:\n",
       "  * chain    (chain) int64 0 1\n",
       "  * draw     (draw) int64 0 1 2 3 4 5 6 7 8 ... 992 993 994 995 996 997 998 999\n",
       "  * county   (county) object 'AITKIN' 'ANOKA' ... 'WRIGHT' 'YELLOW MEDICINE'\n",
       "Data variables:\n",
       "    mu_a     (chain, draw) float64 1.458 1.456 1.456 1.459 ... 1.555 1.455 1.493\n",
       "    mu_b     (chain, draw) float64 -0.5473 -0.5467 -0.5467 ... -0.6857 -0.6708\n",
       "    alpha    (chain, draw, county) float64 1.03 0.9346 1.356 ... 1.789 1.424\n",
       "    beta     (chain, draw, county) float64 -0.5419 -0.521 ... -0.6657 -0.8501\n",
       "    sigma_a  (chain, draw) float64 0.2567 0.2584 0.2584 ... 0.397 0.3989 0.371\n",
       "    sigma_b  (chain, draw) float64 0.01609 0.01714 0.01714 ... 0.1255 0.1117\n",
       "    sigma_y  (chain, draw) float64 0.7398 0.7392 0.7392 ... 0.7259 0.7041 0.7146\n",
       "Attributes:\n",
       "    created_at:                 2019-11-01T16:46:19.820119\n",
       "    inference_library:          pymc3\n",
       "    inference_library_version:  3.7"
      ]
     },
     "execution_count": 65,
     "metadata": {},
     "output_type": "execute_result"
    }
   ],
   "source": [
    "posterior = radon_data.posterior\n",
    "posterior"
   ]
  },
  {
   "cell_type": "markdown",
   "metadata": {},
   "source": [
    "We can now see that the third dimension of `alpha` and `beta` is actually the same dimension and by providing the county names, we can now access the samples by county name and don't first have to look up the integer value.\n",
    "To access the `alpha` and `beta` samples for the county 'AITKIN', we can use"
   ]
  },
  {
   "cell_type": "code",
   "execution_count": 66,
   "metadata": {},
   "outputs": [
    {
     "data": {
      "text/plain": [
       "<xarray.Dataset>\n",
       "Dimensions:  (chain: 2, draw: 1000)\n",
       "Coordinates:\n",
       "    county   <U6 'AITKIN'\n",
       "  * chain    (chain) int64 0 1\n",
       "  * draw     (draw) int64 0 1 2 3 4 5 6 7 8 ... 992 993 994 995 996 997 998 999\n",
       "Data variables:\n",
       "    alpha    (chain, draw) float64 1.03 1.067 1.067 1.069 ... 1.591 0.8588 1.625\n",
       "    beta     (chain, draw) float64 -0.5419 -0.5409 -0.5409 ... -0.7239 -0.6897\n",
       "Attributes:\n",
       "    created_at:                 2019-11-01T16:46:19.820119\n",
       "    inference_library:          pymc3\n",
       "    inference_library_version:  3.7"
      ]
     },
     "execution_count": 66,
     "metadata": {},
     "output_type": "execute_result"
    }
   ],
   "source": [
    "posterior[[\"alpha\", \"beta\"]].sel(county = \"AITKIN\")"
   ]
  },
  {
   "cell_type": "markdown",
   "metadata": {},
   "source": [
    "Having the information about the chain and draw is especially useful when doing model diagnostics, but we might not care so much about the chain or draw number afterwards. Or, if we only fit one chain, we don't care about having the chain dimension with only one coordinate.\n",
    "In that case, we can stack the chain and draw dimension to a new dimension that we call `samples`:"
   ]
  },
  {
   "cell_type": "code",
   "execution_count": 67,
   "metadata": {},
   "outputs": [
    {
     "data": {
      "text/plain": [
       "<xarray.Dataset>\n",
       "Dimensions:  (county: 85, samples: 2000)\n",
       "Coordinates:\n",
       "  * county   (county) object 'AITKIN' 'ANOKA' ... 'WRIGHT' 'YELLOW MEDICINE'\n",
       "  * samples  (samples) MultiIndex\n",
       "  - draw     (samples) int64 0 0 1 1 2 2 3 3 4 4 ... 10 11 11 12 12 13 13 14 14\n",
       "  - chain    (samples) int64 0 1 0 1 0 1 0 1 0 1 0 1 ... 0 1 0 1 0 1 0 1 0 1 0 1\n",
       "Data variables:\n",
       "    mu_a     (samples) float64 1.458 1.603 1.456 1.557 ... 1.455 1.361 1.493\n",
       "    mu_b     (samples) float64 -0.5473 -0.7468 -0.5467 ... -0.4412 -0.6708\n",
       "    alpha    (county, samples) float64 1.03 0.9907 1.067 ... 1.364 1.267 1.424\n",
       "    beta     (county, samples) float64 -0.5419 -0.7551 ... -0.4336 -0.8501\n",
       "    sigma_a  (samples) float64 0.2567 0.3073 0.2584 ... 0.3989 0.3881 0.371\n",
       "    sigma_b  (samples) float64 0.01609 0.1523 0.01714 ... 0.1255 0.4774 0.1117\n",
       "    sigma_y  (samples) float64 0.7398 0.7221 0.7392 ... 0.7041 0.6609 0.7146\n",
       "Attributes:\n",
       "    created_at:                 2019-11-01T16:46:19.820119\n",
       "    inference_library:          pymc3\n",
       "    inference_library_version:  3.7"
      ]
     },
     "execution_count": 67,
     "metadata": {},
     "output_type": "execute_result"
    }
   ],
   "source": [
    "posterior = posterior.stack(samples = [\"draw\", \"chain\"])\n",
    "posterior"
   ]
  },
  {
   "cell_type": "markdown",
   "metadata": {},
   "source": [
    "Since the floor predictor variable can only take on values of 0 or 1, we know that `alpha` represents the log radon level in the basement floor.\n",
    "Similarly, `alpha` + `beta` represents the log radon level in the first floor.\n",
    "If we want to know the radon level at the first floor, we simply sum up the variables and exponentiate:"
   ]
  },
  {
   "cell_type": "code",
   "execution_count": 92,
   "metadata": {},
   "outputs": [
    {
     "data": {
      "text/plain": [
       "<xarray.Dataset>\n",
       "Dimensions:            (county: 85, samples: 2000)\n",
       "Coordinates:\n",
       "  * county             (county) object 'AITKIN' 'ANOKA' ... 'YELLOW MEDICINE'\n",
       "  * samples            (samples) MultiIndex\n",
       "  - draw               (samples) int64 0 0 1 1 2 2 3 3 ... 11 12 12 13 13 14 14\n",
       "  - chain              (samples) int64 0 1 0 1 0 1 0 1 0 1 ... 1 0 1 0 1 0 1 0 1\n",
       "Data variables:\n",
       "    mu_a               (samples) float64 1.458 1.603 1.456 ... 1.455 1.361 1.493\n",
       "    mu_b               (samples) float64 -0.5473 -0.7468 ... -0.4412 -0.6708\n",
       "    alpha              (county, samples) float64 1.03 0.9907 ... 1.267 1.424\n",
       "    beta               (county, samples) float64 -0.5419 -0.7551 ... -0.8501\n",
       "    sigma_a            (samples) float64 0.2567 0.3073 0.2584 ... 0.3881 0.371\n",
       "    sigma_b            (samples) float64 0.01609 0.1523 ... 0.4774 0.1117\n",
       "    sigma_y            (samples) float64 0.7398 0.7221 0.7392 ... 0.6609 0.7146\n",
       "    first_floor_radon  (county, samples) float64 1.63 1.266 ... 2.302 1.776\n",
       "Attributes:\n",
       "    created_at:                 2019-11-01T16:46:19.820119\n",
       "    inference_library:          pymc3\n",
       "    inference_library_version:  3.7"
      ]
     },
     "execution_count": 92,
     "metadata": {},
     "output_type": "execute_result"
    }
   ],
   "source": [
    "posterior[\"first_floor_radon\"] = np.exp(posterior[\"alpha\"] + posterior[\"beta\"]*1)\n",
    "posterior"
   ]
  },
  {
   "cell_type": "markdown",
   "metadata": {},
   "source": [
    "Similarly as with pandas Dataframes, we can use groupby and aggregation function on our xarray Dataset. To obtain the median radon level on the first floor for each county, we can proceed as follows:"
   ]
  },
  {
   "cell_type": "code",
   "execution_count": 73,
   "metadata": {},
   "outputs": [
    {
     "data": {
      "text/plain": [
       "<xarray.DataArray 'first_floor_radon' (county: 85)>\n",
       "array([1.808428, 1.324706, 2.386905, 2.3313  , 2.382273, 2.369587, 3.905642,\n",
       "       2.746497, 1.852786, 2.220663, 2.351363, 2.484625, 1.83248 , 3.353187,\n",
       "       2.236875, 1.977339, 1.950442, 2.054268, 2.028813, 2.727675, 2.931446,\n",
       "       1.502852, 2.403771, 3.41584 , 3.508225, 2.057655, 2.622938, 2.005074,\n",
       "       2.115492, 1.703854, 3.194219, 2.048759, 2.799348, 2.48283 , 1.679012,\n",
       "       3.798932, 1.318437, 2.955076, 2.827303, 3.253778, 3.259585, 2.27361 ,\n",
       "       2.25055 , 1.841993, 1.974204, 2.139086, 1.875827, 1.901116, 2.5914  ,\n",
       "       2.844377, 3.137511, 2.58782 , 2.243324, 1.899855, 2.721476, 2.022168,\n",
       "       1.629826, 2.678833, 2.610007, 2.145379, 1.995357, 3.672248, 2.530163,\n",
       "       3.073486, 2.418039, 2.738686, 3.167066, 1.788324, 2.213257, 1.403773,\n",
       "       2.315641, 2.624639, 2.646808, 2.020126, 2.494738, 2.907658, 2.838268,\n",
       "       2.167601, 1.672793, 1.993298, 3.817495, 2.50442 , 2.270436, 2.735169,\n",
       "       2.315437])\n",
       "Coordinates:\n",
       "  * county   (county) object 'AITKIN' 'ANOKA' ... 'WRIGHT' 'YELLOW MEDICINE'"
      ]
     },
     "execution_count": 73,
     "metadata": {},
     "output_type": "execute_result"
    }
   ],
   "source": [
    "posterior[\"first_floor_radon\"].groupby(\"county\").median(dim=[\"samples\"])"
   ]
  },
  {
   "cell_type": "markdown",
   "metadata": {},
   "source": [
    "It is straight-forward to transform this to a pandas dataframe:"
   ]
  },
  {
   "cell_type": "code",
   "execution_count": 76,
   "metadata": {},
   "outputs": [
    {
     "data": {
      "text/html": [
       "<div>\n",
       "<style scoped>\n",
       "    .dataframe tbody tr th:only-of-type {\n",
       "        vertical-align: middle;\n",
       "    }\n",
       "\n",
       "    .dataframe tbody tr th {\n",
       "        vertical-align: top;\n",
       "    }\n",
       "\n",
       "    .dataframe thead th {\n",
       "        text-align: right;\n",
       "    }\n",
       "</style>\n",
       "<table border=\"1\" class=\"dataframe\">\n",
       "  <thead>\n",
       "    <tr style=\"text-align: right;\">\n",
       "      <th></th>\n",
       "      <th>county</th>\n",
       "      <th>first_floor_radon</th>\n",
       "    </tr>\n",
       "  </thead>\n",
       "  <tbody>\n",
       "    <tr>\n",
       "      <td>0</td>\n",
       "      <td>AITKIN</td>\n",
       "      <td>1.808428</td>\n",
       "    </tr>\n",
       "    <tr>\n",
       "      <td>1</td>\n",
       "      <td>ANOKA</td>\n",
       "      <td>1.324706</td>\n",
       "    </tr>\n",
       "    <tr>\n",
       "      <td>2</td>\n",
       "      <td>BECKER</td>\n",
       "      <td>2.386905</td>\n",
       "    </tr>\n",
       "    <tr>\n",
       "      <td>3</td>\n",
       "      <td>BELTRAMI</td>\n",
       "      <td>2.331300</td>\n",
       "    </tr>\n",
       "    <tr>\n",
       "      <td>4</td>\n",
       "      <td>BENTON</td>\n",
       "      <td>2.382273</td>\n",
       "    </tr>\n",
       "    <tr>\n",
       "      <td>...</td>\n",
       "      <td>...</td>\n",
       "      <td>...</td>\n",
       "    </tr>\n",
       "    <tr>\n",
       "      <td>80</td>\n",
       "      <td>WATONWAN</td>\n",
       "      <td>3.817495</td>\n",
       "    </tr>\n",
       "    <tr>\n",
       "      <td>81</td>\n",
       "      <td>WILKIN</td>\n",
       "      <td>2.504420</td>\n",
       "    </tr>\n",
       "    <tr>\n",
       "      <td>82</td>\n",
       "      <td>WINONA</td>\n",
       "      <td>2.270436</td>\n",
       "    </tr>\n",
       "    <tr>\n",
       "      <td>83</td>\n",
       "      <td>WRIGHT</td>\n",
       "      <td>2.735169</td>\n",
       "    </tr>\n",
       "    <tr>\n",
       "      <td>84</td>\n",
       "      <td>YELLOW MEDICINE</td>\n",
       "      <td>2.315437</td>\n",
       "    </tr>\n",
       "  </tbody>\n",
       "</table>\n",
       "<p>85 rows × 2 columns</p>\n",
       "</div>"
      ],
      "text/plain": [
       "             county  first_floor_radon\n",
       "0            AITKIN           1.808428\n",
       "1             ANOKA           1.324706\n",
       "2            BECKER           2.386905\n",
       "3          BELTRAMI           2.331300\n",
       "4            BENTON           2.382273\n",
       "..              ...                ...\n",
       "80         WATONWAN           3.817495\n",
       "81           WILKIN           2.504420\n",
       "82           WINONA           2.270436\n",
       "83           WRIGHT           2.735169\n",
       "84  YELLOW MEDICINE           2.315437\n",
       "\n",
       "[85 rows x 2 columns]"
      ]
     },
     "execution_count": 76,
     "metadata": {},
     "output_type": "execute_result"
    }
   ],
   "source": [
    "posterior[\"first_floor_radon\"].groupby(\"county\").median(dim=[\"samples\"]).to_dataframe().reset_index()"
   ]
  }
 ],
 "metadata": {
  "kernelspec": {
   "display_name": "anaconda3-2019.03",
   "language": "python",
   "name": "anaconda3-2019.03"
  },
  "language_info": {
   "codemirror_mode": {
    "name": "ipython",
    "version": 3
   },
   "file_extension": ".py",
   "mimetype": "text/x-python",
   "name": "python",
   "nbconvert_exporter": "python",
   "pygments_lexer": "ipython3",
   "version": "3.7.4"
  }
 },
 "nbformat": 4,
 "nbformat_minor": 4
}
